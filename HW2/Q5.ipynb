{
 "cells": [
  {
   "cell_type": "code",
   "execution_count": 1,
   "id": "c02e1247",
   "metadata": {
    "ExecuteTime": {
     "end_time": "2021-12-31T09:33:12.344931Z",
     "start_time": "2021-12-31T09:33:11.612600Z"
    }
   },
   "outputs": [],
   "source": [
    "import numpy as np\n",
    "import pandas as pd\n",
    "import matplotlib.pyplot as plt\n",
    "import numpy.linalg as la\n",
    "import networkx as nx"
   ]
  },
  {
   "cell_type": "code",
   "execution_count": 2,
   "id": "e77deed1",
   "metadata": {
    "ExecuteTime": {
     "end_time": "2021-12-31T09:33:12.361661Z",
     "start_time": "2021-12-31T09:33:12.346903Z"
    },
    "scrolled": true
   },
   "outputs": [
    {
     "data": {
      "text/plain": [
       "[(8, 1), (19, 1), (36, 1), (3, 2), (4, 2)]"
      ]
     },
     "execution_count": 2,
     "metadata": {},
     "output_type": "execute_result"
    }
   ],
   "source": [
    "edges = []\n",
    "with open('./soc-wiki-vote.txt') as f:\n",
    "    for line in f:\n",
    "        one_row = line.split()\n",
    "        (u, v) = int(one_row[0]), int(one_row[1])\n",
    "        edges.append((u,v))\n",
    "    \n",
    "edges[:5]"
   ]
  },
  {
   "cell_type": "code",
   "execution_count": 3,
   "id": "6b6bc7b7",
   "metadata": {
    "ExecuteTime": {
     "end_time": "2021-12-31T09:33:12.370331Z",
     "start_time": "2021-12-31T09:33:12.363295Z"
    }
   },
   "outputs": [],
   "source": [
    "G = nx.DiGraph()\n",
    "G.add_edges_from(edges)"
   ]
  },
  {
   "cell_type": "code",
   "execution_count": 14,
   "id": "f1b2e734",
   "metadata": {
    "ExecuteTime": {
     "end_time": "2021-12-31T09:33:12.381613Z",
     "start_time": "2021-12-31T09:33:12.371738Z"
    },
    "scrolled": false
   },
   "outputs": [],
   "source": [
    "def power_iter(\n",
    "    G,\n",
    "    beta=0.8,\n",
    "    max_iter=100,\n",
    "    tol=1.0e-7,\n",
    "    init_vector=None,\n",
    "    dangling=None):\n",
    "    \n",
    "    M = nx.to_numpy_array(G).T # transpose to convert to column stochastic matrix\n",
    "    N = M.shape[0]\n",
    "    \n",
    "    if N == 0:\n",
    "        return {}\n",
    "    \n",
    "    if init_vector is None:\n",
    "        x = np.repeat(1.0 / N, N)\n",
    "    else:\n",
    "        x = init_vector\n",
    "        \n",
    "    if dangling is None:\n",
    "        dangling_weights = np.repeat(1.0, N)\n",
    "    else:\n",
    "        dangling_weights = np.repeat(dangling, N)\n",
    "    \n",
    "    # if d_i = 0, preprocess matrix M to remove all dead ends. \n",
    "    # follow random teleport links with probability 1.0 from dead-ends or dangling_weights\n",
    "    \n",
    "    dangling_nodes = np.where(np.sum(M, axis=0) == 0)[0]\n",
    "\n",
    "    for node in dangling_nodes:\n",
    "        M[:, node] = dangling_weights\n",
    "\n",
    "    \n",
    "    M = M / np.sum(M, axis=0, keepdims=1)\n",
    "    r = np.repeat(1.0 / N, N)\n",
    "    p = np.repeat(1.0 / N, N)\n",
    "    \n",
    "    for it in range(max_iter):\n",
    "        rlast = r\n",
    "        r = beta * (M @ r) + (1 - beta) * p\n",
    "        mean_abs_error = np.absolute(r - rlast).sum() / N\n",
    "        print(it, mean_abs_error)\n",
    "        if mean_abs_error < tol:\n",
    "            std = np.round(np.std(r), 3)\n",
    "            print(f'Converged at it= {it}, the standard deviation of r^(t)= {std}')\n",
    "            \n",
    "            nodes = list(G.nodes)\n",
    "            ranks = {}\n",
    "            for i, j in zip(nodes, range(r.shape[0])):\n",
    "                ranks[i] = r[j]\n",
    "                \n",
    "            return ranks\n"
   ]
  },
  {
   "cell_type": "code",
   "execution_count": 5,
   "id": "c8839faf",
   "metadata": {
    "ExecuteTime": {
     "end_time": "2021-12-31T09:33:12.730660Z",
     "start_time": "2021-12-31T09:33:12.382923Z"
    }
   },
   "outputs": [
    {
     "name": "stdout",
     "output_type": "stream",
     "text": [
      "β= 0.1, Converged at it= 3, the standard deviation of r^(t)= 0.0\n",
      "β= 0.2, Converged at it= 4, the standard deviation of r^(t)= 0.0\n",
      "β= 0.3, Converged at it= 5, the standard deviation of r^(t)= 0.001\n",
      "β= 0.4, Converged at it= 6, the standard deviation of r^(t)= 0.001\n",
      "β= 0.5, Converged at it= 7, the standard deviation of r^(t)= 0.001\n",
      "β= 0.6, Converged at it= 8, the standard deviation of r^(t)= 0.001\n",
      "β= 0.7, Converged at it= 10, the standard deviation of r^(t)= 0.001\n",
      "β= 0.8, Converged at it= 12, the standard deviation of r^(t)= 0.002\n",
      "β= 0.9, Converged at it= 15, the standard deviation of r^(t)= 0.002\n"
     ]
    }
   ],
   "source": [
    "l = np.arange(start=0.1, stop=1.0, step=0.1)\n",
    "\n",
    "for b in l:\n",
    "    print(f'β= {round(b, 3)}, ', end='')\n",
    "    power_iter(G, beta=b)\n",
    "#     print()"
   ]
  },
  {
   "cell_type": "code",
   "execution_count": 15,
   "id": "04683b01",
   "metadata": {},
   "outputs": [
    {
     "name": "stdout",
     "output_type": "stream",
     "text": [
      "0 0.0008322018191508486\n",
      "1 0.00028969370230235044\n",
      "2 0.00011159276536412762\n",
      "3 4.994995905292891e-05\n",
      "4 2.0759183297629454e-05\n",
      "5 9.974442622604338e-06\n",
      "6 4.849598069265756e-06\n",
      "7 2.446212574859245e-06\n",
      "8 1.2286063933486546e-06\n",
      "9 6.055855748621117e-07\n",
      "10 3.0309764344351776e-07\n",
      "11 1.5655784828279026e-07\n",
      "12 8.585693065163856e-08\n",
      "Converged at it= 12, the standard deviation of r^(t)= 0.002\n"
     ]
    }
   ],
   "source": [
    "mypagerank = power_iter(G, beta=0.8)"
   ]
  },
  {
   "cell_type": "code",
   "execution_count": 9,
   "id": "054d9c06",
   "metadata": {},
   "outputs": [
    {
     "data": {
      "text/plain": [
       "0.002687548854408918"
      ]
     },
     "execution_count": 9,
     "metadata": {},
     "output_type": "execute_result"
    }
   ],
   "source": [
    "mypagerank[1]"
   ]
  },
  {
   "cell_type": "code",
   "execution_count": 11,
   "id": "01affe57",
   "metadata": {
    "ExecuteTime": {
     "end_time": "2021-12-31T09:33:12.851182Z",
     "start_time": "2021-12-31T09:33:12.736168Z"
    }
   },
   "outputs": [
    {
     "name": "stdout",
     "output_type": "stream",
     "text": [
      "Converged at it= 12, the standard deviation of r^(t)= 0.002\n",
      "number of diferences: 0\n"
     ]
    }
   ],
   "source": [
    "mypagerank = power_iter(G, beta=0.8)\n",
    "nxpagerank = nx.pagerank(G, alpha=0.8, tol=1e-7)\n",
    "\n",
    "s = 0\n",
    "for i in list(mypagerank):\n",
    "    if round(mypagerank[i], 6) != round(nxpagerank[i], 6):\n",
    "        s += 1\n",
    "        \n",
    "print(f'number of diferences: {s}')"
   ]
  },
  {
   "cell_type": "code",
   "execution_count": null,
   "id": "426c12bc",
   "metadata": {},
   "outputs": [],
   "source": []
  }
 ],
 "metadata": {
  "kernelspec": {
   "display_name": "Python 3 (ipykernel)",
   "language": "python",
   "name": "python3"
  },
  "language_info": {
   "codemirror_mode": {
    "name": "ipython",
    "version": 3
   },
   "file_extension": ".py",
   "mimetype": "text/x-python",
   "name": "python",
   "nbconvert_exporter": "python",
   "pygments_lexer": "ipython3",
   "version": "3.9.7"
  }
 },
 "nbformat": 4,
 "nbformat_minor": 5
}
