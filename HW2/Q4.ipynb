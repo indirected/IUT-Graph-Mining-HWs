{
 "cells": [
  {
   "cell_type": "code",
   "execution_count": 1,
   "id": "6d406c10",
   "metadata": {
    "ExecuteTime": {
     "end_time": "2021-12-31T09:32:44.001733Z",
     "start_time": "2021-12-31T09:32:42.575425Z"
    }
   },
   "outputs": [],
   "source": [
    "import numpy as np\n",
    "import pandas as pd\n",
    "import networkx as nx\n",
    "from sklearn.ensemble import RandomForestClassifier\n",
    "from sklearn.utils import shuffle\n"
   ]
  },
  {
   "cell_type": "code",
   "execution_count": 2,
   "id": "99c3846a",
   "metadata": {
    "ExecuteTime": {
     "end_time": "2021-12-31T09:32:44.007529Z",
     "start_time": "2021-12-31T09:32:44.003029Z"
    }
   },
   "outputs": [],
   "source": [
    "def create_graph(path):\n",
    "    edges = []\n",
    "    with open(path) as f:\n",
    "        for line in f:\n",
    "            one_row = line.split()\n",
    "            (u, v) = int(one_row[0]), int(one_row[1])\n",
    "            edges.append((u,v))\n",
    "\n",
    "    G = nx.Graph()\n",
    "    G.add_edges_from(edges)\n",
    "    return G"
   ]
  },
  {
   "cell_type": "code",
   "execution_count": 3,
   "id": "3e68ee77",
   "metadata": {
    "ExecuteTime": {
     "end_time": "2021-12-31T09:32:44.013535Z",
     "start_time": "2021-12-31T09:32:44.009938Z"
    }
   },
   "outputs": [],
   "source": [
    "def dict_to_df(dictionary, name):\n",
    "    data_dict = dict(dictionary)\n",
    "\n",
    "    data_items = data_dict.items()\n",
    "    data_list = list(data_items)\n",
    "    df = pd.DataFrame(data_list, columns=['node', name])\n",
    "    return df"
   ]
  },
  {
   "cell_type": "code",
   "execution_count": 4,
   "id": "21ff98b4",
   "metadata": {
    "ExecuteTime": {
     "end_time": "2021-12-31T09:32:44.020098Z",
     "start_time": "2021-12-31T09:32:44.014938Z"
    }
   },
   "outputs": [],
   "source": [
    "def create_dataset(nodes_label):\n",
    "    G = create_graph('./soc-edges.txt')\n",
    "    data = nodes_label\n",
    "    data = pd.merge(data, dict_to_df(nx.degree(G), name='degree'), on = ['node'])\n",
    "    data = pd.merge(data, dict_to_df(nx.betweenness_centrality(G), name='betweenness'), on = ['node'])\n",
    "    #data = pd.merge(data, dict_to_df(nx.eigenvector_centrality(G), name='eigenvector'), on = ['node'])\n",
    "    data = pd.merge(data, dict_to_df(nx.closeness_centrality(G), name='closeness'), on = ['node'])\n",
    "    data = pd.merge(data, dict_to_df(nx.clustering(G), name='clustering'), on = ['node'])\n",
    "    \n",
    "    #data = pd.merge(data, dict_to_df(ego, name='ego'), on = ['node'])\n",
    "    \n",
    "    \n",
    "    return data"
   ]
  },
  {
   "cell_type": "code",
   "execution_count": 5,
   "id": "c6fe1f04",
   "metadata": {
    "ExecuteTime": {
     "end_time": "2021-12-31T09:32:48.332026Z",
     "start_time": "2021-12-31T09:32:44.021693Z"
    }
   },
   "outputs": [
    {
     "name": "stdout",
     "output_type": "stream",
     "text": [
      "Accuracy:  0.875\n"
     ]
    }
   ],
   "source": [
    "def main():\n",
    "\n",
    "    ########################### your code goes here #########################\n",
    "    # input: undirected graph readed from edges.txt\n",
    "    # output: DataFrame including one column named 'node' \n",
    "    # for node numbers , and other column(s) including node\n",
    "    # feature(s)\n",
    "\n",
    "\n",
    "\n",
    "    ###########################################################################\n",
    "\n",
    "    nodes_label = pd.read_csv('./soc-nodes.txt')\n",
    "    # adding data labels to data\n",
    "    data = create_dataset(nodes_label)\n",
    "\n",
    "    # splitting data to training and test sets\n",
    "    train = data[data['partition']=='train']\n",
    "    test = data[data['partition']=='test']\n",
    "    \n",
    "    \n",
    "    # accuracy of random forest is related to the order of training samples\n",
    "    # if you set random_state=0 in model, shuffle the data\n",
    "    '''\n",
    "    train = shuffle(train)\n",
    "    test = shuffle(test)\n",
    "    '''\n",
    "    \n",
    "    # prepare data for model\n",
    "    X_train = train.drop(['node', 'class', 'partition'], axis = 1)\n",
    "    X_test = test.drop(['node', 'class', 'partition'], axis = 1)\n",
    "    y_train = train['class']\n",
    "    y_test = test['class']\n",
    "\n",
    "    # training the model\n",
    "    \n",
    "    model = RandomForestClassifier(max_depth=2, random_state=0)\n",
    "    model.fit(X_train, y_train)\n",
    "\n",
    "    # make prediction\n",
    "    test_prediction = model.predict(X_test)\n",
    "\n",
    "    # calculate the accuracy\n",
    "    true_predicted = 0\n",
    "    for i in range(len(test_prediction)):\n",
    "        if test_prediction[i] == list(y_test)[i]:\n",
    "            true_predicted +=1\n",
    "\n",
    "    numberOfTestNodes = len(y_test)\n",
    "    \n",
    "    print('Accuracy: ', true_predicted/numberOfTestNodes)\n",
    "\n",
    "if __name__ == '__main__':\n",
    "    \n",
    "    main()"
   ]
  },
  {
   "cell_type": "code",
   "execution_count": null,
   "id": "68862a45",
   "metadata": {},
   "outputs": [],
   "source": []
  },
  {
   "cell_type": "code",
   "execution_count": null,
   "id": "bd14d373",
   "metadata": {},
   "outputs": [],
   "source": []
  }
 ],
 "metadata": {
  "kernelspec": {
   "display_name": "Python 3 (ipykernel)",
   "language": "python",
   "name": "python3"
  },
  "language_info": {
   "codemirror_mode": {
    "name": "ipython",
    "version": 3
   },
   "file_extension": ".py",
   "mimetype": "text/x-python",
   "name": "python",
   "nbconvert_exporter": "python",
   "pygments_lexer": "ipython3",
   "version": "3.9.7"
  }
 },
 "nbformat": 4,
 "nbformat_minor": 5
}
