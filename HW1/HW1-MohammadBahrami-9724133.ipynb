{
 "cells": [
  {
   "cell_type": "markdown",
   "metadata": {},
   "source": [
    "# Machine Learning on Graphs - Homework 1\n",
    "## Mohammad Bahrami - 9724133"
   ]
  },
  {
   "cell_type": "code",
   "execution_count": 1,
   "metadata": {},
   "outputs": [],
   "source": [
    "import numpy as np\n",
    "import networkx as nx\n",
    "from collections import deque\n",
    "import matplotlib.pyplot as plt"
   ]
  },
  {
   "cell_type": "markdown",
   "metadata": {},
   "source": [
    "## Question 1"
   ]
  },
  {
   "cell_type": "code",
   "execution_count": 2,
   "metadata": {},
   "outputs": [],
   "source": [
    "adj = np.array(\n",
    "    [[0 , 1 , 0 , 1 , 0 , 0 , 1],\n",
    "    [1 , 0 , 1 , 0 , 1 , 0 , 0],\n",
    "    [0 , 1 , 0 , 0 , 0 , 1 , 0],\n",
    "    [1 , 0 , 0 , 0 , 0 , 0 , 1], \n",
    "    [0 , 1 , 0 , 0 , 0 , 1 , 1], \n",
    "    [0 , 0 , 1 , 0 , 1 , 0 , 1], \n",
    "    [1 , 0 , 0 , 1 , 1 , 1 , 0]]\n",
    ")"
   ]
  },
  {
   "cell_type": "code",
   "execution_count": 3,
   "metadata": {},
   "outputs": [],
   "source": [
    "evalues, evecs = np.linalg.eig(adj)"
   ]
  },
  {
   "cell_type": "code",
   "execution_count": 4,
   "metadata": {},
   "outputs": [
    {
     "data": {
      "text/plain": [
       "array([[-1.14939114],\n",
       "       [-1.05191112],\n",
       "       [-0.74384091],\n",
       "       [-0.88522892],\n",
       "       [-1.24363517],\n",
       "       [-1.16627074],\n",
       "       [-1.49041893]])"
      ]
     },
     "execution_count": 4,
     "metadata": {},
     "output_type": "execute_result"
    }
   ],
   "source": [
    "adj @ (evecs.T[0].reshape((-1,1)))"
   ]
  },
  {
   "cell_type": "code",
   "execution_count": 5,
   "metadata": {},
   "outputs": [],
   "source": [
    "XX = evalues[0]*evecs.T[0].reshape((-1,1))"
   ]
  },
  {
   "cell_type": "code",
   "execution_count": 6,
   "metadata": {},
   "outputs": [],
   "source": [
    "X = np.ones((7,1))\n",
    "for i in range(1000):\n",
    "    X = adj@ X / np.max(evalues)"
   ]
  },
  {
   "cell_type": "code",
   "execution_count": 7,
   "metadata": {},
   "outputs": [
    {
     "data": {
      "text/plain": [
       "array([[0.99919975],\n",
       "       [0.91445748],\n",
       "       [0.64664292],\n",
       "       [0.7695557 ],\n",
       "       [1.08112887],\n",
       "       [1.01387368],\n",
       "       [1.2956653 ]])"
      ]
     },
     "execution_count": 7,
     "metadata": {},
     "output_type": "execute_result"
    }
   ],
   "source": [
    "X"
   ]
  },
  {
   "cell_type": "code",
   "execution_count": 8,
   "metadata": {},
   "outputs": [
    {
     "data": {
      "text/plain": [
       "array([[-1.15031168],\n",
       "       [-1.15031168],\n",
       "       [-1.15031168],\n",
       "       [-1.15031168],\n",
       "       [-1.15031168],\n",
       "       [-1.15031168],\n",
       "       [-1.15031168]])"
      ]
     },
     "execution_count": 8,
     "metadata": {},
     "output_type": "execute_result"
    }
   ],
   "source": [
    "XX / X"
   ]
  },
  {
   "cell_type": "markdown",
   "metadata": {},
   "source": [
    "we see that the vector found by the centrality algorithm is a linear coefficient of the vector created by $ \\lambda_1 v_1 $"
   ]
  },
  {
   "cell_type": "markdown",
   "metadata": {},
   "source": [
    "## Question 2"
   ]
  },
  {
   "cell_type": "markdown",
   "metadata": {},
   "source": [
    "### Part 1"
   ]
  },
  {
   "cell_type": "code",
   "execution_count": 9,
   "metadata": {},
   "outputs": [
    {
     "name": "stdout",
     "output_type": "stream",
     "text": [
      "Graph: 1 - Eigen Value: 24.635 - Max Degree: 30\n",
      "Graph: 2 - Eigen Value: 25.168 - Max Degree: 33\n",
      "Graph: 3 - Eigen Value: 24.330 - Max Degree: 31\n",
      "Graph: 4 - Eigen Value: 23.573 - Max Degree: 30\n",
      "Graph: 5 - Eigen Value: 25.017 - Max Degree: 33\n",
      "Graph: 6 - Eigen Value: 26.058 - Max Degree: 35\n",
      "Graph: 7 - Eigen Value: 25.555 - Max Degree: 32\n",
      "Graph: 8 - Eigen Value: 25.020 - Max Degree: 32\n",
      "Graph: 9 - Eigen Value: 25.733 - Max Degree: 32\n",
      "Graph: 10 - Eigen Value: 25.046 - Max Degree: 33\n"
     ]
    }
   ],
   "source": [
    "for i in range(10):\n",
    "    G = nx.erdos_renyi_graph(50, 0.5)\n",
    "    A = nx.to_numpy_array(G)\n",
    "    eigval = max(np.linalg.eig(A)[0])\n",
    "    max_degree = np.max(np.array(G.degree)[:,1])\n",
    "    print(f\"Graph: {i+1} - Eigen Value: {eigval:.3f} - Max Degree: {max_degree}\")"
   ]
  },
  {
   "cell_type": "markdown",
   "metadata": {},
   "source": [
    "we can see that the largest eigen value is always smaller than the largest node degree in these random graphs"
   ]
  },
  {
   "cell_type": "markdown",
   "metadata": {},
   "source": [
    "### Part 2"
   ]
  },
  {
   "cell_type": "code",
   "execution_count": 10,
   "metadata": {},
   "outputs": [
    {
     "name": "stdout",
     "output_type": "stream",
     "text": [
      "Graph: 1 - Eigen Values: [ 3.366 -3.366  1.271  0.234 -0.234 -1.271  1.    -1.    -1.     1.   ] \n",
      "--------------------------------------------------\n",
      "Graph: 2 - Eigen Values: [-3.357  3.357 -1.644  1.644 -0.877 -0.506  0.877  0.506  0.     0.   ] \n",
      "--------------------------------------------------\n",
      "Graph: 3 - Eigen Values: [-2.683  2.683 -1.831  1.831 -0.919 -0.715 -0.31   0.31   0.919  0.715] \n",
      "--------------------------------------------------\n",
      "Graph: 4 - Eigen Values: [ 3.549+0.j -3.549+0.j  1.628+0.j -1.628+0.j  0.726+0.j  0.477+0.j\n",
      " -0.477+0.j -0.726+0.j  0.   +0.j  0.   -0.j] \n",
      "--------------------------------------------------\n",
      "Graph: 5 - Eigen Values: [-2.59   2.59  -1.357 -1.122  1.357  1.122 -0.439  0.439  0.     0.   ] \n",
      "--------------------------------------------------\n",
      "Graph: 6 - Eigen Values: [-2.845  2.845 -1.498 -0.813  1.498  0.813 -1.     0.    -0.     1.   ] \n",
      "--------------------------------------------------\n",
      "Graph: 7 - Eigen Values: [-3.3    3.3   -1.38  -1.252 -0.765 -0.229  0.229  0.765  1.38   1.252] \n",
      "--------------------------------------------------\n",
      "Graph: 8 - Eigen Values: [-3.12 +0.j  3.12 +0.j -1.892+0.j  1.892+0.j -0.83 +0.j  0.83 +0.j\n",
      "  0.   +0.j  0.   -0.j  0.   +0.j -0.   +0.j] \n",
      "--------------------------------------------------\n",
      "Graph: 9 - Eigen Values: [ 2.99 +0.j -2.99 +0.j  1.698+0.j -1.698+0.j  0.882+0.j  0.632+0.j\n",
      " -0.882+0.j -0.632+0.j  0.   +0.j  0.   -0.j] \n",
      "--------------------------------------------------\n",
      "Graph: 10 - Eigen Values: [ 2.84  -2.84   1.704 -1.704  0.787  0.643 -0.787 -0.643 -0.    -0.   ] \n",
      "--------------------------------------------------\n"
     ]
    }
   ],
   "source": [
    "for i in range(10):\n",
    "    G = nx.algorithms.bipartite.generators.random_graph(5, 5, 0.5)\n",
    "    A = nx.to_numpy_array(G)\n",
    "    eigvals = np.linalg.eig(A)[0]\n",
    "    print(f\"Graph: {i+1} - Eigen Values: {np.round(eigvals, 3)} \\n{'-'*50}\")"
   ]
  },
  {
   "cell_type": "markdown",
   "metadata": {},
   "source": [
    "we can observe that for each eigen value $\\lambda$ in the values, $-\\lambda$ is also in the eigen values."
   ]
  },
  {
   "cell_type": "markdown",
   "metadata": {},
   "source": [
    "### Part 3\n",
    "To find the number of paths of length $k$ from the adjacency matrix, we raise the adjacency matrix to the pawer of $k$. Then, the $A_{i,j}^{k}$ is the count of paths of length $k$ in the matrix A.\n",
    "\n",
    "As a result, to find paths of length $3$ between each $2$ nodes, we raise adjacency matrix `adj` to the power of $3$. Then, to count all the paths of length $3$ we sum up all the elements of $A^3$."
   ]
  },
  {
   "cell_type": "code",
   "execution_count": 11,
   "metadata": {},
   "outputs": [
    {
     "name": "stdout",
     "output_type": "stream",
     "text": [
      "Number of Paths of length 3 in A: 178\n"
     ]
    }
   ],
   "source": [
    "A3 = np.linalg.matrix_power(adj, 3)\n",
    "paths_l3 = np.sum(A3)\n",
    "print(f\"Number of Paths of length 3 in A: {paths_l3}\")"
   ]
  },
  {
   "cell_type": "markdown",
   "metadata": {},
   "source": [
    "### Part 4\n",
    "We want the distinct paths of length 3 that start and end in the same node. To find them, first we raise the `adj` to the power of $3$, then we sum the values in the main diameter. This gives us the count of all paths of length $3$ that start and end in the same node, but there is a catch, as the order neither of the nodes that we visit nor the start and end node (which are the same) matter to us, and we only want the number of distinct triangles in the graph. we need to first divide the number that we found by $2$ to account for the paths like $(i \\to j \\to k \\to i)$, $(i \\to k \\to j \\to i)$ that has the same start and end point but take a different path to make the same triangle and then we need to divide the result by $3$ to account for the nodes that create the same triangle but we count it $3$ times because we are summing over all the nodes of main diameter and each one of them can be the starting point of the triangle's path."
   ]
  },
  {
   "cell_type": "code",
   "execution_count": 12,
   "metadata": {},
   "outputs": [
    {
     "name": "stdout",
     "output_type": "stream",
     "text": [
      "Number of Triangles A: 2.0\n"
     ]
    }
   ],
   "source": [
    "A3_eyed = np.eye(adj.shape[0]) * np.linalg.matrix_power(adj, 3) \n",
    "trig_count = np.sum(A3_eyed) // 6\n",
    "print(f\"Number of Triangles A: {trig_count}\")"
   ]
  },
  {
   "cell_type": "markdown",
   "metadata": {},
   "source": [
    "### part 5\n",
    "To count the number of squares in a graph, we need to calculate $\\binom{A^2_{i,j}}{2}$ for each $i,j$ that $i<j$.\n",
    "This is because we want to choose $2$ different paths of length $2$ between $i,j$ but we don't want paths that start and end in the same location (the main diameter) and also we don't want to count paths once from one way and once from the other way around, so we eliminate the other way around (below main diameter). So we go through every element of the adjacency matrix that is above the main diameter and calculate the above equation and sum all the results. One more little point is that we count each square two times this way (nodes that are neighbors may form the same square but are counted two times) so we divide the result by 2."
   ]
  },
  {
   "cell_type": "code",
   "execution_count": 13,
   "metadata": {},
   "outputs": [
    {
     "name": "stdout",
     "output_type": "stream",
     "text": [
      "Number of Squares A: 2\n"
     ]
    }
   ],
   "source": [
    "A2 = np.linalg.matrix_power(adj, 2)\n",
    "double_of_squares = 0\n",
    "for i in range(A2.shape[0]):\n",
    "    for j in range(A2.shape[1]):\n",
    "        if j > i:\n",
    "            double_of_squares += A2[i][j] * (A2[i][j] - 1) // 2\n",
    "print(f\"Number of Squares A: {double_of_squares // 2}\")"
   ]
  },
  {
   "cell_type": "markdown",
   "metadata": {},
   "source": [
    "### Part 6\n",
    "It seems that these two graphs are isomorphic."
   ]
  },
  {
   "cell_type": "code",
   "execution_count": 14,
   "metadata": {},
   "outputs": [],
   "source": [
    "P = np.array([\n",
    "    [1, 0, 0, 0, 0],\n",
    "    [0, 0, 0, 1, 0],\n",
    "    [0, 1, 0, 0, 0],\n",
    "    [0, 0, 0, 0, 1],\n",
    "    [0, 0, 1, 0, 0]\n",
    "])\n",
    "\n",
    "A1 = np.array([\n",
    "    [0, 0, 1, 1, 0],\n",
    "    [0, 0, 0, 1, 1],\n",
    "    [1, 0, 0, 0, 1],\n",
    "    [1, 1, 0, 0, 0],\n",
    "    [0, 1, 1, 0, 0]\n",
    "])\n",
    "\n",
    "A2 = np.array([\n",
    "    [0, 1, 0, 0, 1],\n",
    "    [1, 0, 1, 0, 0],\n",
    "    [0, 1, 0, 1, 0],\n",
    "    [0, 0, 1, 0, 1],\n",
    "    [1, 0, 0, 1, 0]\n",
    "])"
   ]
  },
  {
   "cell_type": "code",
   "execution_count": 29,
   "metadata": {},
   "outputs": [
    {
     "data": {
      "text/plain": [
       "True"
      ]
     },
     "execution_count": 29,
     "metadata": {},
     "output_type": "execute_result"
    }
   ],
   "source": [
    "np.all(P @ A1 @ np.linalg.inv(P) == A2)"
   ]
  },
  {
   "cell_type": "markdown",
   "metadata": {},
   "source": [
    "We can see that $PA_1P^{-1}$ is equal to A_2"
   ]
  },
  {
   "cell_type": "markdown",
   "metadata": {},
   "source": [
    "## Question 4"
   ]
  },
  {
   "cell_type": "code",
   "execution_count": 16,
   "metadata": {},
   "outputs": [],
   "source": [
    "def betweennessCentrality(A):\n",
    "    A = np.array(A)\n",
    "    Betweenness = np.zeros(A.shape[0])\n",
    "    for i in range(A.shape[0]):\n",
    "        parent = [[] for i in range(A.shape[0])]\n",
    "        stack = deque()\n",
    "        queue = deque()\n",
    "        sp_count = np.zeros(A.shape[0])\n",
    "        sp_count[i] = 1\n",
    "        distance = np.array([-1] * A.shape[0])\n",
    "        distance[i] = 0\n",
    "        dependency = np.zeros(A.shape[0])\n",
    "        queue.append(i)\n",
    "        while len(queue) != 0:\n",
    "            v = queue.popleft()\n",
    "            stack.append(v)\n",
    "            v_neighbors = A[v].nonzero()[0]\n",
    "            for j in v_neighbors:\n",
    "                if distance[j] < 0:\n",
    "                    queue.append(j)\n",
    "                    distance[j] = distance[v] + 1\n",
    "                if distance[j] == distance[v] + 1:\n",
    "                    sp_count[j] = sp_count[j] + sp_count[v]\n",
    "                    parent[j].append(v)\n",
    "        while len(stack) != 0:\n",
    "            w = stack.pop()\n",
    "            for v in parent[w]:\n",
    "                dependency[v] += sp_count[v] / sp_count[w] * (1 + dependency[w])\n",
    "            if i != w:\n",
    "                Betweenness[w] += dependency[w]\n",
    "    return Betweenness.reshape((-1, 1)) / np.linalg.norm(Betweenness)"
   ]
  },
  {
   "cell_type": "markdown",
   "metadata": {},
   "source": [
    "We put each node of the graph to be the source of the centrality and calculate that nodes centrality and repeat this for every node then we have all the nodes' centralities. "
   ]
  },
  {
   "cell_type": "code",
   "execution_count": 17,
   "metadata": {},
   "outputs": [
    {
     "data": {
      "text/plain": [
       "array([[0.35634832],\n",
       "       [0.4454354 ],\n",
       "       [0.08908708],\n",
       "       [0.        ],\n",
       "       [0.17817416],\n",
       "       [0.35634832],\n",
       "       [0.71269665]])"
      ]
     },
     "execution_count": 17,
     "metadata": {},
     "output_type": "execute_result"
    }
   ],
   "source": [
    "mb = betweennessCentrality(adj)\n",
    "mb"
   ]
  },
  {
   "cell_type": "code",
   "execution_count": 18,
   "metadata": {},
   "outputs": [
    {
     "data": {
      "text/plain": [
       "array([[0.13333333],\n",
       "       [0.16666667],\n",
       "       [0.03333333],\n",
       "       [0.        ],\n",
       "       [0.06666667],\n",
       "       [0.13333333],\n",
       "       [0.26666667]])"
      ]
     },
     "execution_count": 18,
     "metadata": {},
     "output_type": "execute_result"
    }
   ],
   "source": [
    "nb = nx.centrality.betweenness_centrality(nx.from_numpy_matrix(adj))\n",
    "nb = np.array(list(nb.values())).reshape((-1, 1))\n",
    "nb"
   ]
  },
  {
   "cell_type": "code",
   "execution_count": 19,
   "metadata": {},
   "outputs": [
    {
     "name": "stderr",
     "output_type": "stream",
     "text": [
      "/tmp/ipykernel_59756/410580493.py:1: RuntimeWarning: invalid value encountered in true_divide\n",
      "  mb / nb\n"
     ]
    },
    {
     "data": {
      "text/plain": [
       "array([[2.67261242],\n",
       "       [2.67261242],\n",
       "       [2.67261242],\n",
       "       [       nan],\n",
       "       [2.67261242],\n",
       "       [2.67261242],\n",
       "       [2.67261242]])"
      ]
     },
     "execution_count": 19,
     "metadata": {},
     "output_type": "execute_result"
    }
   ],
   "source": [
    "mb / nb"
   ]
  },
  {
   "cell_type": "markdown",
   "metadata": {},
   "source": [
    "as we can see, our centrality and networkx's centrality are a linear coefficient of each other.(basically are the same)"
   ]
  },
  {
   "cell_type": "markdown",
   "metadata": {},
   "source": [
    "### Time Complexity\n",
    "In this implementation, the stack and the queue have $O(1)$ complexity.\n",
    "The main `for` is repeated ($n=$ `number of nodes`) times.\n",
    "The first internal while is a simple BFS which takes $O(m)$ ($m=$ `number of edges`)\n",
    "The second while also takes $O(m)$\n",
    "The final time complexity will be:\n",
    "$$O(n \\times (m + m)) = O(nm)$$"
   ]
  },
  {
   "cell_type": "markdown",
   "metadata": {},
   "source": [
    "## Question 5"
   ]
  },
  {
   "cell_type": "code",
   "execution_count": 20,
   "metadata": {},
   "outputs": [],
   "source": [
    "max_nodes = 1000\n",
    "added_nodes = 3\n",
    "G1 = nx.erdos_renyi_graph(max_nodes, 0.1)\n",
    "G2 = nx.erdos_renyi_graph(10, 0.4)"
   ]
  },
  {
   "cell_type": "code",
   "execution_count": 21,
   "metadata": {},
   "outputs": [],
   "source": [
    "for i in range(10, max_nodes):\n",
    "    adj_mat = nx.to_numpy_array(G2)\n",
    "    p = np.sum(adj_mat, axis=0) / np.sum(adj_mat)\n",
    "    nodes = np.random.choice(\n",
    "        np.arange(p.shape[0]),\n",
    "        p=p,\n",
    "        size=added_nodes,\n",
    "        replace=False\n",
    "    )\n",
    "    G2.add_node(i)\n",
    "    G2.add_edges_from(\n",
    "        [(i, node) for node in nodes]\n",
    "    )"
   ]
  },
  {
   "cell_type": "markdown",
   "metadata": {},
   "source": [
    "### Diameter"
   ]
  },
  {
   "cell_type": "code",
   "execution_count": 22,
   "metadata": {},
   "outputs": [
    {
     "name": "stdout",
     "output_type": "stream",
     "text": [
      "G1 Diameter: 3 - G2 Diameter: 6\n"
     ]
    }
   ],
   "source": [
    "G1_diam = nx.distance_measures.diameter(G1)\n",
    "G2_diam = nx.distance_measures.diameter(G2)\n",
    "print(f\"G1 Diameter: {G1_diam} - G2 Diameter: {G2_diam}\")"
   ]
  },
  {
   "cell_type": "markdown",
   "metadata": {},
   "source": [
    "In $G_1$ the nodes are more centered and more dense as there is usually no more than $3$ intermediary nodes between two distinct nodes. Whereas in $G_2$ there are more intermediary nodes between two distinct nodes."
   ]
  },
  {
   "cell_type": "markdown",
   "metadata": {},
   "source": [
    "### Clustering coefficient"
   ]
  },
  {
   "cell_type": "code",
   "execution_count": 23,
   "metadata": {},
   "outputs": [
    {
     "name": "stdout",
     "output_type": "stream",
     "text": [
      "G1 Avg Clustering Coefficient: 0.10027 \n",
      "G2 Avg Clustering Coefficient: 0.03080\n"
     ]
    }
   ],
   "source": [
    "G1_clus = nx.cluster.average_clustering(G1)\n",
    "G2_clus = nx.cluster.average_clustering(G2)\n",
    "print(f\"G1 Avg Clustering Coefficient: {G1_clus:.5f} \\nG2 Avg Clustering Coefficient: {G2_clus:.5f}\")"
   ]
  },
  {
   "cell_type": "markdown",
   "metadata": {},
   "source": [
    "This is lower in $G_2$ because new nodes try to connect to the more famous nodes and avoid the lonely ones. so there are less neighbors for each node of $G_2$ for a constant size of potential neighbors in both graphs."
   ]
  },
  {
   "cell_type": "markdown",
   "metadata": {},
   "source": [
    "### Closeness Centrality"
   ]
  },
  {
   "cell_type": "code",
   "execution_count": 24,
   "metadata": {},
   "outputs": [
    {
     "name": "stdout",
     "output_type": "stream",
     "text": [
      "G1 Avg Closeness Centrality: 0.5263360752714041 \n",
      "G2 Avg Closeness Centrality: 0.2864637566575686\n"
     ]
    }
   ],
   "source": [
    "G1_clos = nx.centrality.closeness_centrality(G1)\n",
    "G2_clos = nx.centrality.closeness_centrality(G2)\n",
    "print(f\"G1 Avg Closeness Centrality: {np.mean(list(G1_clos.values()))} \\nG2 Avg Closeness Centrality: {np.mean(list(G2_clos.values()))}\")"
   ]
  },
  {
   "cell_type": "markdown",
   "metadata": {},
   "source": [
    "This value shows the average potential of a node being the center of graph. For $G_1$ this value is bigger because the total number of nodes that have bigger degrees is higher."
   ]
  },
  {
   "cell_type": "markdown",
   "metadata": {},
   "source": [
    "### Optionals"
   ]
  },
  {
   "cell_type": "markdown",
   "metadata": {},
   "source": [
    "Plotting the distribution of $G_1$'s degrees "
   ]
  },
  {
   "cell_type": "code",
   "execution_count": 25,
   "metadata": {},
   "outputs": [],
   "source": [
    "# set to remove nodes below this limiter in the plots \n",
    "# (set same as d0 to view d0 effects)\n",
    "plot_limiter = 0"
   ]
  },
  {
   "cell_type": "code",
   "execution_count": 26,
   "metadata": {},
   "outputs": [
    {
     "data": {
      "image/png": "[encoded data removed]",
      "text/plain": [
       "<Figure size 864x504 with 1 Axes>"
      ]
     },
     "metadata": {
      "needs_background": "light"
     },
     "output_type": "display_data"
    }
   ],
   "source": [
    "G1_deg_dist = np.unique(np.array(G1.degree)[:,1], return_counts=True)\n",
    "plt.bar(G1_deg_dist[0][G1_deg_dist[0] >= plot_limiter], G1_deg_dist[1][G1_deg_dist[0] >= plot_limiter])\n",
    "plt.gcf().set_size_inches(12, 7)"
   ]
  },
  {
   "cell_type": "markdown",
   "metadata": {},
   "source": [
    "Plotting the distribution of $G_2$'s degrees "
   ]
  },
  {
   "cell_type": "code",
   "execution_count": 27,
   "metadata": {},
   "outputs": [
    {
     "data": {
      "image/png": "[encoded data removed]",
      "text/plain": [
       "<Figure size 864x504 with 1 Axes>"
      ]
     },
     "metadata": {
      "needs_background": "light"
     },
     "output_type": "display_data"
    }
   ],
   "source": [
    "G2_deg_dist = np.unique(np.array(G2.degree)[:,1], return_counts=True)\n",
    "plt.bar(G2_deg_dist[0][G2_deg_dist[0] >= plot_limiter], G2_deg_dist[1][G2_deg_dist[0] >= plot_limiter])\n",
    "plt.gcf().set_size_inches(12, 7)"
   ]
  },
  {
   "cell_type": "code",
   "execution_count": 28,
   "metadata": {},
   "outputs": [
    {
     "name": "stdout",
     "output_type": "stream",
     "text": [
      "Nodes above d0 in G1: 1000\n",
      "Nodes above d0 in G2: 3\n"
     ]
    }
   ],
   "source": [
    "d0 = 70\n",
    "G1_sum_abv_d0 = np.sum(G1_deg_dist[1][G1_deg_dist[0] >= d0])\n",
    "G2_sum_abv_d0 = np.sum(G2_deg_dist[1][G2_deg_dist[0] >= d0])\n",
    "print(f\"Nodes above d0 in G1: {G1_sum_abv_d0}\")\n",
    "print(f\"Nodes above d0 in G2: {G2_sum_abv_d0}\")"
   ]
  },
  {
   "cell_type": "markdown",
   "metadata": {},
   "source": [
    "We can see that in $G_1$ almost every node has a degree over $70$ nut in $G_2$ this number is vary close to $0$. so the number of famous nodes in $G_2$ is small and the edges has been distributed in many of other nodes, but in $G_1$ most of the nodes are in the same level and close to average. which means there are no famous or non-famous nodes in $G_1$ and they are normally distributed."
   ]
  }
 ],
 "metadata": {
  "interpreter": {
   "hash": "36cf16204b8548560b1c020c4e8fb5b57f0e4c58016f52f2d4be01e192833930"
  },
  "kernelspec": {
   "display_name": "Python 3.9.7 64-bit",
   "name": "python3"
  },
  "language_info": {
   "codemirror_mode": {
    "name": "ipython",
    "version": 3
   },
   "file_extension": ".py",
   "mimetype": "text/x-python",
   "name": "python",
   "nbconvert_exporter": "python",
   "pygments_lexer": "ipython3",
   "version": "3.9.7"
  },
  "orig_nbformat": 4
 },
 "nbformat": 4,
 "nbformat_minor": 2
}
